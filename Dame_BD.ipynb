{
 "cells": [
  {
   "cell_type": "code",
   "execution_count": 45,
   "id": "d3bb49cd",
   "metadata": {},
   "outputs": [
    {
     "data": {
      "text/plain": [
       "'3.2.1'"
      ]
     },
     "execution_count": 45,
     "metadata": {},
     "output_type": "execute_result"
    }
   ],
   "source": [
    "import pyspark\n",
    "pyspark.__version__"
   ]
  },
  {
   "cell_type": "code",
   "execution_count": 46,
   "id": "d5433353",
   "metadata": {},
   "outputs": [],
   "source": [
    "import findspark\n",
    "findspark.init()\n",
    "findspark.find()\n",
    "from pyspark.sql import SparkSession\n",
    "from pyspark.ml.fpm import FPGrowth\n",
    "import random\n",
    "import os"
   ]
  },
  {
   "cell_type": "code",
   "execution_count": 47,
   "id": "413ed603",
   "metadata": {},
   "outputs": [],
   "source": [
    "#Classe session pour demarer une nouvelle session spark \n",
    "#il a une seul fonction débutSession()\n",
    "class Session:\n",
    "    def __init__(self):\n",
    "        self.spark= SparkSession.builder.appName('SparkByExamples.com').enableHiveSupport().getOrCreate()\n",
    "    def debutSession(self):\n",
    "        return self.spark\n",
    "\n"
   ]
  },
  {
   "cell_type": "code",
   "execution_count": 48,
   "id": "db12e652",
   "metadata": {},
   "outputs": [],
   "source": [
    "\n",
    "#classe donné pour la génération de jeux de donnée a étudié et chargement dans une Dataframe\n",
    "#il a 2 fonction dataframe() et affiche()\n",
    "class Donne:\n",
    "    liste=[]\n",
    "    def __init__(self,nbrl,nbre,pas,plage):\n",
    "        self.nbrl=nbrl\n",
    "        self.nbre=nbre\n",
    "        self.pas=pas\n",
    "        self.plage=plage\n",
    "        self.liste=[]\n",
    "        for i in range(0, self.nbrl):\n",
    "            random1 = random.sample(range(self.plage), self.nbre)\n",
    "            self.liste.append((random1,))\n",
    "            if (self.nbre<= self.pas):\n",
    "                self.nrbe =0\n",
    "            else:\n",
    "                self.nbre=self.nbre-self.pas\n",
    "    \n",
    "    def dataframe(self):\n",
    "        return spark.createDataFrame(self.liste, [\"items\"])\n",
    "    \n",
    "    def affiche(self):\n",
    "        print(self.liste)"
   ]
  },
  {
   "cell_type": "code",
   "execution_count": 49,
   "id": "41565b7a",
   "metadata": {},
   "outputs": [],
   "source": [
    "# classe Traitement qui utulise les données générer pour les traité et construire une modéle\n",
    "#il a 2 fonction modéle() et save_model()\n",
    "class Traitement:\n",
    "    def __init__(self,donne):\n",
    "        self.donne=donne\n",
    "    def modele(self):\n",
    "        fpGrowth = FPGrowth(itemsCol=\"items\", minSupport=0.5, minConfidence=0.6)\n",
    "        return fpGrowth.fit(self.donne)\n",
    "    \n",
    "    def save_model(self,model):\n",
    "        path=\"/\"\n",
    "        if not os.path.exists(path):\n",
    "            print('save directories...', flush=True)\n",
    "            os.makedirs(path)\n",
    "        path =path + 'model'\n",
    "        model.save(path)\n",
    "        \n",
    "        return path"
   ]
  },
  {
   "cell_type": "code",
   "execution_count": 50,
   "id": "f3bc95e0",
   "metadata": {},
   "outputs": [
    {
     "data": {
      "text/html": [
       "\n",
       "            <div>\n",
       "                <p><b>SparkSession - hive</b></p>\n",
       "                \n",
       "        <div>\n",
       "            <p><b>SparkContext</b></p>\n",
       "\n",
       "            <p><a href=\"http://DESKTOP-0Q0MOE5:4040\">Spark UI</a></p>\n",
       "\n",
       "            <dl>\n",
       "              <dt>Version</dt>\n",
       "                <dd><code>v3.1.3</code></dd>\n",
       "              <dt>Master</dt>\n",
       "                <dd><code>local[*]</code></dd>\n",
       "              <dt>AppName</dt>\n",
       "                <dd><code>SparkByExamples.com</code></dd>\n",
       "            </dl>\n",
       "        </div>\n",
       "        \n",
       "            </div>\n",
       "        "
      ],
      "text/plain": [
       "<pyspark.sql.session.SparkSession at 0x188a97ffd90>"
      ]
     },
     "execution_count": 50,
     "metadata": {},
     "output_type": "execute_result"
    }
   ],
   "source": [
    "#utilisation de la classe session() pour débuter une nouvelle session \n",
    "sess = Session()  \n",
    "spark=sess.debutSession()\n",
    "spark"
   ]
  },
  {
   "cell_type": "code",
   "execution_count": 51,
   "id": "4821f923",
   "metadata": {},
   "outputs": [
    {
     "name": "stdout",
     "output_type": "stream",
     "text": [
      "[([36, 32, 43, 26, 45, 48, 35, 38, 10, 16, 19, 25, 5, 15, 37, 39, 14, 20, 4, 23, 49, 11, 1, 2, 21, 27, 30, 34, 18, 42, 9, 46, 28, 47, 3, 7, 31, 13, 6, 8],), ([6, 24, 36, 31, 11, 48, 38, 29, 14, 19, 49, 44, 15, 32, 2, 12, 0, 35, 27, 46, 30, 45, 42, 18, 40, 1, 4, 23, 41, 3, 28, 20, 47, 10, 22, 13, 33, 9, 16],), ([2, 39, 47, 8, 17, 35, 32, 24, 21, 43, 10, 7, 23, 13, 0, 16, 28, 1, 14, 41, 26, 18, 42, 9, 20, 30, 25, 3, 4, 27, 11, 36, 31, 33, 12, 45, 6, 40],), ([45, 12, 13, 33, 40, 24, 19, 47, 31, 38, 44, 41, 39, 23, 3, 35, 26, 7, 37, 30, 34, 2, 27, 43, 46, 18, 36, 1, 28, 0, 20, 14, 9, 16, 11, 5, 49],), ([45, 12, 15, 35, 44, 5, 48, 17, 0, 34, 38, 36, 9, 43, 14, 29, 11, 7, 19, 6, 23, 42, 21, 22, 13, 1, 39, 41, 16, 20, 25, 32, 27, 4, 37, 33],), ([39, 29, 32, 12, 28, 6, 5, 8, 44, 30, 3, 16, 21, 13, 40, 23, 35, 20, 15, 37, 26, 33, 43, 45, 9, 48, 7, 10, 0, 18, 36, 38, 46, 31, 49],), ([39, 47, 5, 26, 14, 21, 37, 34, 13, 30, 44, 0, 17, 42, 32, 19, 38, 18, 3, 10, 40, 31, 24, 8, 36, 2, 6, 49, 43, 48, 33, 41, 27, 1],), ([40, 42, 9, 24, 4, 10, 34, 8, 20, 12, 25, 22, 0, 30, 15, 19, 3, 7, 43, 45, 27, 11, 14, 48, 31, 21, 44, 38, 16, 41, 46, 33, 18],), ([18, 49, 8, 22, 39, 19, 36, 30, 20, 40, 12, 31, 6, 3, 46, 24, 10, 14, 38, 23, 45, 37, 7, 35, 11, 28, 47, 25, 27, 42, 9, 13],), ([16, 1, 15, 5, 44, 43, 45, 22, 32, 18, 0, 23, 37, 33, 21, 41, 8, 35, 10, 7, 13, 12, 14, 25, 2, 20, 27, 46, 49, 3, 39],), ([27, 22, 34, 24, 32, 25, 35, 31, 46, 1, 39, 49, 14, 23, 16, 33, 38, 18, 42, 2, 3, 13, 36, 45, 47, 7, 10, 29, 19, 44],), ([17, 12, 3, 33, 30, 46, 48, 20, 24, 5, 0, 31, 10, 35, 1, 15, 22, 47, 19, 43, 44, 11, 41, 29, 25, 32, 36, 45, 18],), ([29, 41, 28, 24, 21, 46, 27, 25, 44, 5, 6, 40, 13, 49, 12, 43, 17, 8, 16, 33, 3, 39, 9, 30, 0, 7, 20, 11],), ([45, 7, 28, 49, 24, 20, 34, 22, 14, 25, 43, 27, 8, 2, 15, 32, 11, 33, 12, 38, 42, 40, 23, 18, 1, 13, 44],), ([19, 5, 24, 10, 2, 6, 8, 22, 42, 44, 14, 29, 36, 1, 39, 35, 45, 0, 23, 3, 31, 40, 11, 47, 25, 43],), ([49, 25, 21, 40, 3, 35, 24, 22, 20, 16, 39, 14, 1, 11, 37, 5, 34, 30, 15, 18, 33, 10, 44, 17, 41],), ([4, 47, 0, 8, 15, 12, 1, 32, 42, 31, 7, 38, 5, 6, 46, 16, 13, 37, 22, 36, 34, 24, 29, 2],), ([8, 48, 0, 43, 10, 37, 17, 46, 41, 1, 38, 39, 40, 13, 22, 47, 7, 6, 33, 18, 9, 28, 26],), ([1, 47, 40, 34, 4, 43, 20, 6, 49, 22, 48, 25, 2, 13, 3, 30, 32, 0, 28, 33, 18, 42],), ([16, 48, 4, 34, 10, 6, 12, 1, 7, 38, 23, 42, 47, 11, 31, 3, 32, 17, 36, 13, 29],)]\n",
      "+--------------------+\n",
      "|               items|\n",
      "+--------------------+\n",
      "|[36, 32, 43, 26, ...|\n",
      "|[6, 24, 36, 31, 1...|\n",
      "|[2, 39, 47, 8, 17...|\n",
      "|[45, 12, 13, 33, ...|\n",
      "|[45, 12, 15, 35, ...|\n",
      "|[39, 29, 32, 12, ...|\n",
      "|[39, 47, 5, 26, 1...|\n",
      "|[40, 42, 9, 24, 4...|\n",
      "|[18, 49, 8, 22, 3...|\n",
      "|[16, 1, 15, 5, 44...|\n",
      "|[27, 22, 34, 24, ...|\n",
      "|[17, 12, 3, 33, 3...|\n",
      "|[29, 41, 28, 24, ...|\n",
      "|[45, 7, 28, 49, 2...|\n",
      "|[19, 5, 24, 10, 2...|\n",
      "|[49, 25, 21, 40, ...|\n",
      "|[4, 47, 0, 8, 15,...|\n",
      "|[8, 48, 0, 43, 10...|\n",
      "|[1, 47, 40, 34, 4...|\n",
      "|[16, 48, 4, 34, 1...|\n",
      "+--------------------+\n",
      "\n",
      "+--------------------+\n",
      "|               items|\n",
      "+--------------------+\n",
      "|[21, 42, 3, 17, 4...|\n",
      "|[11, 14, 22, 5, 3...|\n",
      "|[47, 46, 44, 30, ...|\n",
      "|[11, 44, 19, 27, ...|\n",
      "|[15, 14, 47, 44, ...|\n",
      "|[14, 5, 23, 26, 2...|\n",
      "|[12, 17, 29, 8, 2...|\n",
      "|[13, 28, 42, 12, ...|\n",
      "|[27, 34, 44, 5, 4...|\n",
      "|[10, 41, 20, 43, ...|\n",
      "+--------------------+\n",
      "\n"
     ]
    }
   ],
   "source": [
    "#génération de données avec la classe Donne(nbrl,nbre,pas,plage) il prend en argument nbrl=nombre de liste dans le jeu \n",
    "#de donné ,nbre=nombre d'élément de la premiére liste et peut étre aussi des listes suivant,\n",
    "# pas= qui permet de voir la variation du nombre d'élément dans les listes \n",
    "#et le plage= qui donne la plage de valeur qu'on peut générer de 0 au valeur désigné\n",
    "lis=Donne(20,40,1,50)\n",
    "test=Donne(10,40,1,50)\n",
    "#fonction affiche qui permet d'affiché le jeux de donnée\n",
    "lis.affiche()\n",
    "#fonction dataframe il permet de charger le jeux de donnée généré en dataframe spark\n",
    "df = lis.dataframe()\n",
    "df.show()\n",
    "dfe= test.dataframe()\n",
    "dfe.show()\n"
   ]
  },
  {
   "cell_type": "code",
   "execution_count": 52,
   "id": "3de62f37",
   "metadata": {},
   "outputs": [
    {
     "name": "stdout",
     "output_type": "stream",
     "text": [
      "+------------+----+\n",
      "|       items|freq|\n",
      "+------------+----+\n",
      "|        [35]|  12|\n",
      "|     [35, 3]|  11|\n",
      "|    [35, 14]|  10|\n",
      "|    [35, 18]|  10|\n",
      "| [35, 18, 3]|  10|\n",
      "|    [35, 10]|  10|\n",
      "| [35, 10, 3]|  10|\n",
      "|     [35, 1]|  10|\n",
      "|    [35, 45]|  11|\n",
      "| [35, 45, 3]|  10|\n",
      "|[35, 45, 36]|  10|\n",
      "|    [35, 36]|  10|\n",
      "|    [35, 20]|  10|\n",
      "|    [35, 39]|  10|\n",
      "|         [7]|  14|\n",
      "|      [7, 3]|  10|\n",
      "|     [7, 18]|  10|\n",
      "|      [7, 1]|  10|\n",
      "|  [7, 1, 13]|  10|\n",
      "|     [7, 33]|  10|\n",
      "+------------+----+\n",
      "only showing top 20 rows\n",
      "\n",
      "+----------+----------+------------------+------------------+-------+\n",
      "|antecedent|consequent|        confidence|              lift|support|\n",
      "+----------+----------+------------------+------------------+-------+\n",
      "|  [32, 13]|      [42]|0.8333333333333334|1.2820512820512822|    0.5|\n",
      "|  [32, 13]|       [1]|0.9166666666666666|1.1458333333333333|   0.55|\n",
      "|  [45, 13]|      [23]|               1.0|1.6666666666666667|    0.5|\n",
      "|   [1, 13]|       [7]|0.7692307692307693| 1.098901098901099|    0.5|\n",
      "|   [1, 13]|      [18]|0.7692307692307693|1.0256410256410258|    0.5|\n",
      "|   [1, 13]|      [47]|0.7692307692307693| 1.183431952662722|    0.5|\n",
      "|   [1, 13]|      [42]|0.7692307692307693| 1.183431952662722|    0.5|\n",
      "|   [1, 13]|       [2]|0.7692307692307693|1.3986013986013985|    0.5|\n",
      "|   [1, 13]|      [38]|0.7692307692307693| 1.183431952662722|    0.5|\n",
      "|   [1, 13]|      [32]|0.8461538461538461| 1.301775147928994|   0.55|\n",
      "|   [1, 13]|      [33]|0.7692307692307693|1.0256410256410258|    0.5|\n",
      "|      [16]|       [7]|0.8461538461538461| 1.208791208791209|   0.55|\n",
      "|      [16]|       [3]|0.8461538461538461|1.0576923076923077|   0.55|\n",
      "|      [16]|       [1]|0.7692307692307693|0.9615384615384616|    0.5|\n",
      "|      [16]|      [33]|0.7692307692307693|1.0256410256410258|    0.5|\n",
      "|      [16]|      [20]|0.7692307692307693| 1.098901098901099|    0.5|\n",
      "|      [16]|      [13]|0.8461538461538461|1.0576923076923077|   0.55|\n",
      "|      [16]|      [12]|0.7692307692307693| 1.183431952662722|    0.5|\n",
      "|   [18, 1]|       [3]|0.8333333333333334|1.0416666666666667|    0.5|\n",
      "|   [18, 1]|      [13]|0.8333333333333334|1.0416666666666667|    0.5|\n",
      "+----------+----------+------------------+------------------+-------+\n",
      "only showing top 20 rows\n",
      "\n",
      "+--------------------+--------------------+\n",
      "|               items|       newPrediction|\n",
      "+--------------------+--------------------+\n",
      "|[36, 32, 43, 26, ...|[33, 12, 40, 0, 4...|\n",
      "|[6, 24, 36, 31, 1...|[7, 39, 25, 43, 8...|\n",
      "|[2, 39, 47, 8, 17...|[38, 44, 49, 22, ...|\n",
      "|[45, 12, 13, 33, ...|[42, 32, 10, 25, ...|\n",
      "|[45, 12, 15, 35, ...|[18, 47, 2, 3, 49...|\n",
      "|[39, 29, 32, 12, ...|[42, 1, 14, 25, 2...|\n",
      "|[39, 47, 5, 26, 1...|[7, 25, 16, 45, 2...|\n",
      "|[40, 42, 9, 24, 4...|[1, 13, 39, 49, 3...|\n",
      "|[18, 49, 8, 22, 3...|[33, 32, 1, 43, 1...|\n",
      "|[16, 1, 15, 5, 44...|[42, 47, 38, 24, ...|\n",
      "|[27, 22, 34, 24, ...|[20, 12, 0, 43, 4...|\n",
      "|[17, 12, 3, 33, 3...|[13, 7, 14, 39, 4...|\n",
      "|[29, 41, 28, 24, ...|[1, 14, 18, 45, 3...|\n",
      "|[45, 7, 28, 49, 2...|[47, 3, 39, 0, 16...|\n",
      "|[19, 5, 24, 10, 2...|[18, 13, 32, 38, ...|\n",
      "|[49, 25, 21, 40, ...|[7, 13, 12, 47, 0...|\n",
      "|[4, 47, 0, 8, 15,...|[18, 33, 3, 20, 3...|\n",
      "|[8, 48, 0, 43, 10...|[42, 2, 32, 3, 14...|\n",
      "|[1, 47, 40, 34, 4...|[7, 38, 10, 14, 4...|\n",
      "|[16, 48, 4, 34, 1...|[18, 2, 33, 20, 4...|\n",
      "+--------------------+--------------------+\n",
      "\n"
     ]
    }
   ],
   "source": [
    "#la classe Traitement() il prend comme paramétre le dataframe créer avec la classe Donne()    \n",
    "don=Traitement(df)\n",
    "#fonction modéle permet de faire l'aprantisage avec FP-Growth il returne un model qu'on va utiliser pour voir les régle association  \n",
    "model = don.modele()\n",
    "FPGrowthModel=model.setPredictionCol(\"newPrediction\")\n",
    "\n",
    "# on a ici une fontion de Fp-growth pour sortir les éléments fréquent de notre model avec le nombre de foi qu'il sorte.\n",
    "model.freqItemsets.show()\n",
    "\n",
    "# la fonction associationRules comme son nom l'indique sort les différents régle d'association dans le model.\n",
    "model.associationRules.show()\n",
    "#la fonction transform permet d'appliquer le model sur un jeux de donné de text qu'on peut aussi créer avecla classe Donné() \n",
    "model.transform(df).show()"
   ]
  },
  {
   "cell_type": "code",
   "execution_count": 53,
   "id": "e1dbffb8",
   "metadata": {},
   "outputs": [],
   "source": [
    "#save_model est une fonction de Traitement() pour sauvegarder le modéle pour pouvoir l'utiliser une autre fois\n",
    "model_path=don.save_model(model)\n"
   ]
  },
  {
   "cell_type": "code",
   "execution_count": 54,
   "id": "8ca8d6c0",
   "metadata": {},
   "outputs": [
    {
     "data": {
      "text/plain": [
       "False"
      ]
     },
     "execution_count": 54,
     "metadata": {},
     "output_type": "execute_result"
    }
   ],
   "source": [
    "#on utilise FPGROWTHModel pour charger le modéle enregistré\n",
    "model2 = FPGrowthModel.load(model_path)\n",
    "#cette instrution permet de vérifié estce que le modéle a été bien enregistré il renvoi true si c le cas\n",
    "#et false si le modéle n'est pas bien enregistré \n",
    "model.transform(df).take(1) == model2.transform(df).take(1)"
   ]
  }
 ],
 "metadata": {
  "kernelspec": {
   "display_name": "myenv",
   "language": "python",
   "name": "myenv"
  },
  "language_info": {
   "codemirror_mode": {
    "name": "ipython",
    "version": 3
   },
   "file_extension": ".py",
   "mimetype": "text/x-python",
   "name": "python",
   "nbconvert_exporter": "python",
   "pygments_lexer": "ipython3",
   "version": "3.8.13"
  }
 },
 "nbformat": 4,
 "nbformat_minor": 5
}
