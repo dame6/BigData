{
 "cells": [
  {
   "cell_type": "code",
   "execution_count": 256,
   "id": "d3bb49cd",
   "metadata": {},
   "outputs": [
    {
     "data": {
      "text/plain": [
       "'3.2.1'"
      ]
     },
     "execution_count": 256,
     "metadata": {},
     "output_type": "execute_result"
    }
   ],
   "source": [
    "import pyspark\n",
    "pyspark.__version__"
   ]
  },
  {
   "cell_type": "code",
   "execution_count": 257,
   "id": "d5433353",
   "metadata": {},
   "outputs": [
    {
     "data": {
      "text/plain": [
       "'C:\\\\spark\\\\spark-3.1.3-bin-hadoop2.7'"
      ]
     },
     "execution_count": 257,
     "metadata": {},
     "output_type": "execute_result"
    }
   ],
   "source": [
    "import findspark\n",
    "findspark.init()\n",
    "findspark.find()\n",
    "from pyspark.sql import SparkSession\n",
    "from pyspark.ml.fpm import FPGrowth\n",
    "import random\n",
    "import os"
   ]
  },
  {
   "cell_type": "code",
   "execution_count": 258,
   "id": "413ed603",
   "metadata": {},
   "outputs": [],
   "source": [
    "#Classe session pour demarer une nouvelle session spark\n",
    "#il a une seul fonction débutSession()\n",
    "class Session:\n",
    "    def __init__(self):\n",
    "        self.spark= SparkSession.builder.appName('SparkByExamples.com').enableHiveSupport().getOrCreate()\n",
    "    def debutSession(self):\n",
    "        return self.spark\n",
    "\n"
   ]
  },
  {
   "cell_type": "code",
   "execution_count": 259,
   "id": "b42ee2fa",
   "metadata": {},
   "outputs": [],
   "source": [
    "\n",
    "#classe donné pour la génération de jeux de donnée a étudié et chargement dans une Dataframe \n",
    "#il a 2 fonction dataframe() et affiche()\n",
    "class Donne:\n",
    "    liste=[]\n",
    "    def __init__(self,nbrl,nbre,pas,plage):\n",
    "        self.nbrl=nbrl\n",
    "        self.nbre=nbre\n",
    "        self.pas=pas\n",
    "        self.plage=plage\n",
    "        self.liste=[]\n",
    "        for i in range(0, self.nbrl):\n",
    "            random1 = random.sample(range(self.plage), self.nbre)\n",
    "            self.liste.append((random1,))\n",
    "            if (self.nbre<= self.pas):\n",
    "                self.nrbe =0\n",
    "            else:\n",
    "                self.nbre=self.nbre-self.pas\n",
    "    \n",
    "    def dataframe(self):\n",
    "        return spark.createDataFrame(self.liste, [\"items\"])\n",
    "    \n",
    "    def affiche(self):\n",
    "        print(self.liste)"
   ]
  },
  {
   "cell_type": "code",
   "execution_count": 260,
   "id": "07854edc",
   "metadata": {},
   "outputs": [],
   "source": [
    "# classe Traitement qui utulise les données générer pour les traité et construire une modéle\n",
    "#il a 2 fonction modéle() et save_model()\n",
    "class Traitement:\n",
    "    def __init__(self,donne):\n",
    "        self.donne=donne\n",
    "    def modele(self):\n",
    "        fpGrowth = FPGrowth(itemsCol=\"items\", minSupport=0.5, minConfidence=0.6)\n",
    "        return fpGrowth.fit(self.donne)\n",
    "    \n",
    "    def save_model(self,model):\n",
    "        path=\"/Users/new user/Videos/CODEBD/ \"\n",
    "        if not os.path.exists(path):\n",
    "            print('save directories...', flush=True)\n",
    "            os.makedirs(path)\n",
    "        path =path + 'model.h5'\n",
    "        model.save(path)\n",
    "        \n",
    "        return path"
   ]
  },
  {
   "cell_type": "code",
   "execution_count": 261,
   "id": "77d3df5f",
   "metadata": {},
   "outputs": [
    {
     "data": {
      "text/html": [
       "\n",
       "            <div>\n",
       "                <p><b>SparkSession - hive</b></p>\n",
       "                \n",
       "        <div>\n",
       "            <p><b>SparkContext</b></p>\n",
       "\n",
       "            <p><a href=\"http://DESKTOP-0Q0MOE5:4040\">Spark UI</a></p>\n",
       "\n",
       "            <dl>\n",
       "              <dt>Version</dt>\n",
       "                <dd><code>v3.1.3</code></dd>\n",
       "              <dt>Master</dt>\n",
       "                <dd><code>local[*]</code></dd>\n",
       "              <dt>AppName</dt>\n",
       "                <dd><code>SparkByExamples.com</code></dd>\n",
       "            </dl>\n",
       "        </div>\n",
       "        \n",
       "            </div>\n",
       "        "
      ],
      "text/plain": [
       "<pyspark.sql.session.SparkSession at 0x2760614a3d0>"
      ]
     },
     "execution_count": 261,
     "metadata": {},
     "output_type": "execute_result"
    }
   ],
   "source": [
    "#utilisation de la classe session() pour débuter une nouvelle session \n",
    "sess = Session()  \n",
    "spark=sess.debutSession()\n",
    "spark"
   ]
  },
  {
   "cell_type": "code",
   "execution_count": 262,
   "id": "4821f923",
   "metadata": {},
   "outputs": [
    {
     "name": "stdout",
     "output_type": "stream",
     "text": [
      "[([43, 10, 48, 12, 11, 13, 18, 22, 29, 24, 26, 4, 35, 45, 9, 1, 41, 28, 0, 30, 21, 2, 15, 34, 32, 31, 8, 23, 17, 7, 42, 3, 33, 20, 27, 46, 16, 25, 47, 5],), ([9, 12, 39, 45, 6, 31, 47, 26, 37, 33, 27, 43, 46, 44, 4, 17, 35, 13, 36, 0, 7, 15, 18, 25, 10, 11, 29, 48, 19, 41, 42, 49, 21, 28, 16, 1, 23, 24, 2],), ([27, 15, 0, 1, 11, 9, 44, 21, 31, 47, 19, 43, 33, 35, 46, 12, 16, 38, 39, 5, 48, 18, 13, 34, 7, 22, 32, 3, 23, 45, 28, 4, 24, 41, 10, 30, 20, 8],), ([33, 17, 27, 30, 8, 5, 26, 46, 15, 12, 24, 35, 11, 1, 22, 38, 23, 2, 32, 39, 40, 6, 48, 13, 45, 47, 14, 9, 41, 19, 0, 18, 29, 7, 21, 31, 3],), ([2, 49, 16, 19, 27, 17, 40, 4, 37, 11, 47, 30, 38, 26, 32, 29, 41, 35, 45, 9, 1, 33, 24, 48, 39, 13, 8, 3, 12, 28, 44, 43, 14, 34, 7, 46],), ([35, 37, 28, 21, 45, 47, 3, 46, 27, 43, 4, 44, 24, 6, 16, 38, 0, 8, 12, 42, 25, 15, 40, 39, 20, 11, 48, 7, 10, 29, 19, 32, 30, 17, 26],), ([13, 26, 42, 29, 40, 47, 7, 16, 25, 45, 0, 28, 46, 6, 22, 23, 36, 20, 34, 17, 31, 43, 27, 5, 41, 18, 14, 21, 10, 12, 38, 3, 30, 15],), ([32, 33, 36, 40, 14, 3, 39, 15, 42, 21, 7, 6, 29, 31, 8, 19, 20, 45, 27, 22, 13, 26, 4, 28, 23, 37, 47, 25, 35, 1, 34, 48, 38],), ([10, 11, 22, 2, 15, 26, 46, 49, 7, 45, 41, 25, 13, 23, 24, 36, 33, 5, 31, 28, 37, 1, 48, 40, 6, 12, 14, 42, 30, 19, 8, 16],), ([6, 15, 23, 1, 4, 12, 46, 29, 41, 21, 39, 37, 40, 3, 18, 42, 32, 27, 33, 49, 22, 44, 10, 5, 45, 34, 43, 30, 48, 28, 36],), ([16, 8, 25, 30, 47, 0, 38, 26, 34, 12, 35, 36, 17, 48, 31, 6, 4, 45, 40, 28, 33, 46, 21, 32, 37, 23, 13, 24, 10, 27],), ([37, 31, 2, 0, 9, 40, 16, 21, 15, 5, 28, 23, 49, 43, 8, 18, 1, 26, 45, 39, 42, 4, 10, 33, 3, 27, 35, 36, 24],), ([13, 31, 24, 49, 14, 4, 26, 41, 5, 7, 27, 1, 38, 17, 30, 8, 6, 44, 19, 32, 20, 9, 46, 35, 29, 36, 2, 40],), ([48, 14, 37, 33, 35, 30, 31, 8, 26, 43, 32, 0, 29, 17, 15, 10, 27, 20, 1, 39, 25, 42, 45, 9, 46, 44, 34],), ([49, 2, 21, 47, 34, 22, 35, 15, 27, 26, 37, 13, 17, 43, 39, 33, 3, 9, 41, 7, 36, 28, 18, 25, 19, 24],), ([33, 1, 37, 24, 17, 18, 49, 25, 8, 12, 6, 23, 2, 38, 7, 42, 36, 48, 34, 35, 26, 39, 45, 9, 31],), ([1, 49, 46, 4, 31, 9, 43, 3, 34, 22, 45, 25, 24, 33, 38, 44, 5, 16, 6, 18, 29, 41, 36, 35],), ([9, 37, 20, 28, 48, 32, 14, 4, 31, 36, 5, 11, 42, 46, 38, 1, 17, 15, 43, 41, 21, 3, 6],), ([21, 38, 25, 34, 2, 35, 28, 45, 4, 3, 29, 47, 40, 44, 8, 17, 15, 43, 24, 41, 19, 13],), ([48, 42, 8, 11, 0, 22, 17, 21, 35, 40, 37, 25, 15, 14, 45, 31, 6, 29, 49, 5, 1],)]\n",
      "+--------------------+\n",
      "|               items|\n",
      "+--------------------+\n",
      "|[43, 10, 48, 12, ...|\n",
      "|[9, 12, 39, 45, 6...|\n",
      "|[27, 15, 0, 1, 11...|\n",
      "|[33, 17, 27, 30, ...|\n",
      "|[2, 49, 16, 19, 2...|\n",
      "|[35, 37, 28, 21, ...|\n",
      "|[13, 26, 42, 29, ...|\n",
      "|[32, 33, 36, 40, ...|\n",
      "|[10, 11, 22, 2, 1...|\n",
      "|[6, 15, 23, 1, 4,...|\n",
      "|[16, 8, 25, 30, 4...|\n",
      "|[37, 31, 2, 0, 9,...|\n",
      "|[13, 31, 24, 49, ...|\n",
      "|[48, 14, 37, 33, ...|\n",
      "|[49, 2, 21, 47, 3...|\n",
      "|[33, 1, 37, 24, 1...|\n",
      "|[1, 49, 46, 4, 31...|\n",
      "|[9, 37, 20, 28, 4...|\n",
      "|[21, 38, 25, 34, ...|\n",
      "|[48, 42, 8, 11, 0...|\n",
      "+--------------------+\n",
      "\n",
      "+--------------------+\n",
      "|               items|\n",
      "+--------------------+\n",
      "|[33, 23, 21, 49, ...|\n",
      "|[41, 22, 31, 43, ...|\n",
      "|[45, 49, 25, 39, ...|\n",
      "|[14, 37, 8, 24, 2...|\n",
      "|[41, 20, 34, 48, ...|\n",
      "|[7, 30, 21, 12, 3...|\n",
      "|[19, 35, 7, 25, 4...|\n",
      "|[12, 15, 30, 7, 4...|\n",
      "|[39, 23, 15, 9, 4...|\n",
      "|[45, 35, 48, 20, ...|\n",
      "+--------------------+\n",
      "\n"
     ]
    }
   ],
   "source": [
    "#génération de données avec la classe Donne(nbrl,nbre,pas,plage) il prend en argument nbrl=nombre de liste \n",
    "#dans le jeu de donné ,nbre=nombre d'élément de la premiére liste et peut étre aussi des listes suivant, \n",
    "#pas= qui permet de voir la variation du nombre d'élément dans les listes et le plage= qui donne la plage de valeur \n",
    "#qu'on peut générer de 0 au valeur désigné\n",
    "lis=Donne(20,40,1,50)\n",
    "test=Donne(10,40,1,50)\n",
    "#fonction affiche qui permet d'affiché le jeux de donnée\n",
    "lis.affiche()\n",
    "#fonction dataframe il permet de charger le jeux de donnée généré en dataframe spark\n",
    "df = lis.dataframe()\n",
    "df.show()\n",
    "dfe= test.dataframe()\n",
    "dfe.show()\n"
   ]
  },
  {
   "cell_type": "code",
   "execution_count": 263,
   "id": "8b0f0ee3",
   "metadata": {},
   "outputs": [
    {
     "name": "stdout",
     "output_type": "stream",
     "text": [
      "+------------+----+\n",
      "|       items|freq|\n",
      "+------------+----+\n",
      "|        [12]|  11|\n",
      "|    [12, 46]|  10|\n",
      "|[12, 46, 45]|  10|\n",
      "|    [12, 48]|  10|\n",
      "|[12, 48, 45]|  10|\n",
      "|    [12, 45]|  11|\n",
      "|         [8]|  14|\n",
      "|      [8, 1]|  11|\n",
      "|  [8, 1, 35]|  10|\n",
      "|  [8, 1, 45]|  10|\n",
      "|     [8, 31]|  11|\n",
      "|  [8, 31, 1]|  10|\n",
      "| [8, 31, 35]|  10|\n",
      "| [8, 31, 45]|  10|\n",
      "|     [8, 24]|  11|\n",
      "| [8, 24, 35]|  10|\n",
      "| [8, 24, 45]|  10|\n",
      "|     [8, 35]|  13|\n",
      "| [8, 35, 45]|  12|\n",
      "|     [8, 15]|  10|\n",
      "+------------+----+\n",
      "only showing top 20 rows\n",
      "\n",
      "+-----------+----------+------------------+------------------+-------+\n",
      "| antecedent|consequent|        confidence|              lift|support|\n",
      "+-----------+----------+------------------+------------------+-------+\n",
      "|[33, 1, 45]|      [35]|0.8333333333333334|1.0416666666666667|    0.5|\n",
      "|[33, 1, 45]|      [31]|0.8333333333333334|1.1111111111111112|    0.5|\n",
      "|[33, 1, 45]|      [48]|0.8333333333333334|1.1904761904761907|    0.5|\n",
      "|[33, 48, 1]|      [45]|               1.0|1.1764705882352942|    0.5|\n",
      "|   [15, 45]|       [8]|0.7692307692307693| 1.098901098901099|    0.5|\n",
      "|   [15, 45]|      [31]|0.7692307692307693|1.0256410256410258|    0.5|\n",
      "|   [15, 45]|      [42]|0.7692307692307693|1.2820512820512822|    0.5|\n",
      "|   [15, 45]|      [28]|0.7692307692307693| 1.098901098901099|    0.5|\n",
      "|   [15, 45]|      [21]|0.8461538461538461| 1.208791208791209|   0.55|\n",
      "|   [15, 45]|      [27]|0.7692307692307693| 1.098901098901099|    0.5|\n",
      "|   [15, 45]|      [29]|0.7692307692307693| 1.183431952662722|    0.5|\n",
      "|   [15, 45]|      [48]|0.7692307692307693| 1.098901098901099|    0.5|\n",
      "|   [15, 45]|       [1]|0.7692307692307693|1.0256410256410258|    0.5|\n",
      "|   [15, 45]|      [35]|0.7692307692307693|0.9615384615384616|    0.5|\n",
      "|    [4, 28]|      [45]|0.9090909090909091|1.0695187165775402|    0.5|\n",
      "|    [4, 28]|      [21]|0.9090909090909091|1.2987012987012987|    0.5|\n",
      "|   [27, 17]|      [26]|               1.0|1.4285714285714286|    0.5|\n",
      "|       [16]|      [45]|               1.0|1.1764705882352942|    0.5|\n",
      "|    [1, 45]|       [8]|0.7692307692307693| 1.098901098901099|    0.5|\n",
      "|    [1, 45]|      [31]|0.8461538461538461|1.1282051282051282|   0.55|\n",
      "+-----------+----------+------------------+------------------+-------+\n",
      "only showing top 20 rows\n",
      "\n",
      "+--------------------+--------------------+\n",
      "|               items|       newPrediction|\n",
      "+--------------------+--------------------+\n",
      "|[33, 23, 21, 49, ...|[8, 42, 28, 27, 3...|\n",
      "|[41, 22, 31, 43, ...|[46, 34, 3, 6, 4, 2]|\n",
      "|[45, 49, 25, 39, ...|[21, 33, 15, 6, 4...|\n",
      "|[14, 37, 8, 24, 2...|[42, 21, 48, 1, 4...|\n",
      "|[41, 20, 34, 48, ...|[42, 1, 26, 43, 4...|\n",
      "|[7, 30, 21, 12, 3...|[35, 31, 8, 42, 2...|\n",
      "|[19, 35, 7, 25, 4...|[31, 8, 28, 46, 3...|\n",
      "|[12, 15, 30, 7, 4...|[45, 27, 8, 28, 3...|\n",
      "|[39, 23, 15, 9, 4...|[42, 27, 1, 33, 3...|\n",
      "|[45, 35, 48, 20, ...|[31, 33, 15, 24, ...|\n",
      "+--------------------+--------------------+\n",
      "\n"
     ]
    }
   ],
   "source": [
    "#la classe Traitement() il prend comme paramétre le dataframe créer avec la classe Donne()    \n",
    "don=Traitement(df)\n",
    "#fonction modéle permet de faire l'aprantisage avec FP-Growth il returne un model qu'on va utiliser \n",
    "#pour voir les régle association  \n",
    "model = don.modele()\n",
    "FPGrowthModel=model.setPredictionCol(\"newPrediction\")\n",
    "\n",
    "# on a ici une fontion de Fp-growth pour sortir les éléments fréquent de notre model avec le nombre de foi qu'il sorte.\n",
    "model.freqItemsets.show()\n",
    "\n",
    "# la fonction associationRules comme son nom l'indique sort les différents régle d'association dans le model.\n",
    "model.associationRules.show()\n",
    "#la fonction transform permet d'appliquer le model sur un jeux de donné de text qu'on peut aussi créer avec\n",
    "#la classe Donné() \n",
    "model.transform(dfe).show()"
   ]
  },
  {
   "cell_type": "code",
   "execution_count": 264,
   "id": "0ebfd090",
   "metadata": {},
   "outputs": [],
   "source": [
    "#save_model est une fonction de Traitement() pour sauvegarder le modéle pour pouvoir l'utiliser une autre fois\n",
    "model_path=don.save_model(model)\n"
   ]
  },
  {
   "cell_type": "code",
   "execution_count": 265,
   "id": "c707470c",
   "metadata": {},
   "outputs": [
    {
     "data": {
      "text/plain": [
       "True"
      ]
     },
     "execution_count": 265,
     "metadata": {},
     "output_type": "execute_result"
    }
   ],
   "source": [
    "#on utilise FPGROWTHModel pour charger le modéle enregistré\n",
    "model2 = FPGrowthModel.load(model_path)\n",
    "#cette instrution permet de vérifié estce que le modéle a été bien enregistré il renvoi true si c le cas\n",
    "#et false si le modéle n'est pas bien enregistré \n",
    "model.transform(df).take(1) == model2.transform(df).take(1)"
   ]
  }
 ],
 "metadata": {
  "kernelspec": {
   "display_name": "myenv",
   "language": "python",
   "name": "myenv"
  },
  "language_info": {
   "codemirror_mode": {
    "name": "ipython",
    "version": 3
   },
   "file_extension": ".py",
   "mimetype": "text/x-python",
   "name": "python",
   "nbconvert_exporter": "python",
   "pygments_lexer": "ipython3",
   "version": "3.8.13"
  }
 },
 "nbformat": 4,
 "nbformat_minor": 5
}
